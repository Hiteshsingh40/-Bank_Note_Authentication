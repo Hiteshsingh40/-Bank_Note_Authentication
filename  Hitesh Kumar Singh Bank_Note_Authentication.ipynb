{
 "cells": [
  {
   "cell_type": "code",
   "execution_count": 1,
   "metadata": {
    "id": "B3wiwnsQhMyY"
   },
   "outputs": [],
   "source": [
    "# Importing some essential library\n",
    "import pandas as pd\n",
    "import numpy as np\n",
    "import seaborn as sns\n",
    "import matplotlib.pyplot as plt\n",
    "\n",
    "# Importing warnings\n",
    "import warnings\n",
    "warnings.filterwarnings('ignore')"
   ]
  },
  {
   "cell_type": "code",
   "execution_count": 2,
   "metadata": {
    "id": "hmUPKgaIhcsD"
   },
   "outputs": [],
   "source": [
    "# Uploading the dataset\n",
    "df=pd.read_csv('/content/drive/MyDrive/BankNote_Authentication.csv') "
   ]
  },
  {
   "cell_type": "code",
   "execution_count": 3,
   "metadata": {
    "colab": {
     "base_uri": "https://localhost:8080/",
     "height": 204
    },
    "id": "Wjc_KMWMi3Dc",
    "outputId": "40cb736a-f8d4-4fa4-d557-c5f912e87d41"
   },
   "outputs": [
    {
     "data": {
      "text/html": [
       "<div>\n",
       "<style scoped>\n",
       "    .dataframe tbody tr th:only-of-type {\n",
       "        vertical-align: middle;\n",
       "    }\n",
       "\n",
       "    .dataframe tbody tr th {\n",
       "        vertical-align: top;\n",
       "    }\n",
       "\n",
       "    .dataframe thead th {\n",
       "        text-align: right;\n",
       "    }\n",
       "</style>\n",
       "<table border=\"1\" class=\"dataframe\">\n",
       "  <thead>\n",
       "    <tr style=\"text-align: right;\">\n",
       "      <th></th>\n",
       "      <th>variance</th>\n",
       "      <th>skewness</th>\n",
       "      <th>curtosis</th>\n",
       "      <th>entropy</th>\n",
       "      <th>class</th>\n",
       "    </tr>\n",
       "  </thead>\n",
       "  <tbody>\n",
       "    <tr>\n",
       "      <th>0</th>\n",
       "      <td>3.62160</td>\n",
       "      <td>8.6661</td>\n",
       "      <td>-2.8073</td>\n",
       "      <td>-0.44699</td>\n",
       "      <td>0</td>\n",
       "    </tr>\n",
       "    <tr>\n",
       "      <th>1</th>\n",
       "      <td>4.54590</td>\n",
       "      <td>8.1674</td>\n",
       "      <td>-2.4586</td>\n",
       "      <td>-1.46210</td>\n",
       "      <td>0</td>\n",
       "    </tr>\n",
       "    <tr>\n",
       "      <th>2</th>\n",
       "      <td>3.86600</td>\n",
       "      <td>-2.6383</td>\n",
       "      <td>1.9242</td>\n",
       "      <td>0.10645</td>\n",
       "      <td>0</td>\n",
       "    </tr>\n",
       "    <tr>\n",
       "      <th>3</th>\n",
       "      <td>3.45660</td>\n",
       "      <td>9.5228</td>\n",
       "      <td>-4.0112</td>\n",
       "      <td>-3.59440</td>\n",
       "      <td>0</td>\n",
       "    </tr>\n",
       "    <tr>\n",
       "      <th>4</th>\n",
       "      <td>0.32924</td>\n",
       "      <td>-4.4552</td>\n",
       "      <td>4.5718</td>\n",
       "      <td>-0.98880</td>\n",
       "      <td>0</td>\n",
       "    </tr>\n",
       "  </tbody>\n",
       "</table>\n",
       "</div>"
      ],
      "text/plain": [
       "   variance  skewness  curtosis  entropy  class\n",
       "0   3.62160    8.6661   -2.8073 -0.44699      0\n",
       "1   4.54590    8.1674   -2.4586 -1.46210      0\n",
       "2   3.86600   -2.6383    1.9242  0.10645      0\n",
       "3   3.45660    9.5228   -4.0112 -3.59440      0\n",
       "4   0.32924   -4.4552    4.5718 -0.98880      0"
      ]
     },
     "execution_count": 3,
     "metadata": {
      "tags": []
     },
     "output_type": "execute_result"
    }
   ],
   "source": [
    "df.head()"
   ]
  },
  {
   "cell_type": "code",
   "execution_count": 4,
   "metadata": {
    "colab": {
     "base_uri": "https://localhost:8080/"
    },
    "id": "ryReuWy0jNDm",
    "outputId": "f06a0eb8-0b17-45f4-cad8-1275d48cbe28"
   },
   "outputs": [
    {
     "name": "stdout",
     "output_type": "stream",
     "text": [
      "No. of rows =  1372\n",
      "No. of columns =  5\n"
     ]
    }
   ],
   "source": [
    "# No. of Rows and No. of columns\n",
    "print(\"No. of rows = \", df.shape[0])\n",
    "print(\"No. of columns = \", df.shape[1])"
   ]
  },
  {
   "cell_type": "code",
   "execution_count": 5,
   "metadata": {
    "colab": {
     "base_uri": "https://localhost:8080/"
    },
    "id": "922VkkSWjmRy",
    "outputId": "59a72103-981a-4466-8c58-ed8624123422"
   },
   "outputs": [
    {
     "name": "stdout",
     "output_type": "stream",
     "text": [
      "<class 'pandas.core.frame.DataFrame'>\n",
      "RangeIndex: 1372 entries, 0 to 1371\n",
      "Data columns (total 5 columns):\n",
      " #   Column    Non-Null Count  Dtype  \n",
      "---  ------    --------------  -----  \n",
      " 0   variance  1372 non-null   float64\n",
      " 1   skewness  1372 non-null   float64\n",
      " 2   curtosis  1372 non-null   float64\n",
      " 3   entropy   1372 non-null   float64\n",
      " 4   class     1372 non-null   int64  \n",
      "dtypes: float64(4), int64(1)\n",
      "memory usage: 53.7 KB\n",
      "None\n"
     ]
    }
   ],
   "source": [
    "#Information about data types of each column¶\n",
    "print(df.info())"
   ]
  },
  {
   "cell_type": "code",
   "execution_count": 6,
   "metadata": {
    "colab": {
     "base_uri": "https://localhost:8080/",
     "height": 297
    },
    "id": "AhWnGZ7jj454",
    "outputId": "03eff8e3-b88d-49e5-932e-b7d0ee22e86d"
   },
   "outputs": [
    {
     "data": {
      "text/html": [
       "<div>\n",
       "<style scoped>\n",
       "    .dataframe tbody tr th:only-of-type {\n",
       "        vertical-align: middle;\n",
       "    }\n",
       "\n",
       "    .dataframe tbody tr th {\n",
       "        vertical-align: top;\n",
       "    }\n",
       "\n",
       "    .dataframe thead th {\n",
       "        text-align: right;\n",
       "    }\n",
       "</style>\n",
       "<table border=\"1\" class=\"dataframe\">\n",
       "  <thead>\n",
       "    <tr style=\"text-align: right;\">\n",
       "      <th></th>\n",
       "      <th>variance</th>\n",
       "      <th>skewness</th>\n",
       "      <th>curtosis</th>\n",
       "      <th>entropy</th>\n",
       "      <th>class</th>\n",
       "    </tr>\n",
       "  </thead>\n",
       "  <tbody>\n",
       "    <tr>\n",
       "      <th>count</th>\n",
       "      <td>1372.000000</td>\n",
       "      <td>1372.000000</td>\n",
       "      <td>1372.000000</td>\n",
       "      <td>1372.000000</td>\n",
       "      <td>1372.000000</td>\n",
       "    </tr>\n",
       "    <tr>\n",
       "      <th>mean</th>\n",
       "      <td>0.433735</td>\n",
       "      <td>1.922353</td>\n",
       "      <td>1.397627</td>\n",
       "      <td>-1.191657</td>\n",
       "      <td>0.444606</td>\n",
       "    </tr>\n",
       "    <tr>\n",
       "      <th>std</th>\n",
       "      <td>2.842763</td>\n",
       "      <td>5.869047</td>\n",
       "      <td>4.310030</td>\n",
       "      <td>2.101013</td>\n",
       "      <td>0.497103</td>\n",
       "    </tr>\n",
       "    <tr>\n",
       "      <th>min</th>\n",
       "      <td>-7.042100</td>\n",
       "      <td>-13.773100</td>\n",
       "      <td>-5.286100</td>\n",
       "      <td>-8.548200</td>\n",
       "      <td>0.000000</td>\n",
       "    </tr>\n",
       "    <tr>\n",
       "      <th>25%</th>\n",
       "      <td>-1.773000</td>\n",
       "      <td>-1.708200</td>\n",
       "      <td>-1.574975</td>\n",
       "      <td>-2.413450</td>\n",
       "      <td>0.000000</td>\n",
       "    </tr>\n",
       "    <tr>\n",
       "      <th>50%</th>\n",
       "      <td>0.496180</td>\n",
       "      <td>2.319650</td>\n",
       "      <td>0.616630</td>\n",
       "      <td>-0.586650</td>\n",
       "      <td>0.000000</td>\n",
       "    </tr>\n",
       "    <tr>\n",
       "      <th>75%</th>\n",
       "      <td>2.821475</td>\n",
       "      <td>6.814625</td>\n",
       "      <td>3.179250</td>\n",
       "      <td>0.394810</td>\n",
       "      <td>1.000000</td>\n",
       "    </tr>\n",
       "    <tr>\n",
       "      <th>max</th>\n",
       "      <td>6.824800</td>\n",
       "      <td>12.951600</td>\n",
       "      <td>17.927400</td>\n",
       "      <td>2.449500</td>\n",
       "      <td>1.000000</td>\n",
       "    </tr>\n",
       "  </tbody>\n",
       "</table>\n",
       "</div>"
      ],
      "text/plain": [
       "          variance     skewness     curtosis      entropy        class\n",
       "count  1372.000000  1372.000000  1372.000000  1372.000000  1372.000000\n",
       "mean      0.433735     1.922353     1.397627    -1.191657     0.444606\n",
       "std       2.842763     5.869047     4.310030     2.101013     0.497103\n",
       "min      -7.042100   -13.773100    -5.286100    -8.548200     0.000000\n",
       "25%      -1.773000    -1.708200    -1.574975    -2.413450     0.000000\n",
       "50%       0.496180     2.319650     0.616630    -0.586650     0.000000\n",
       "75%       2.821475     6.814625     3.179250     0.394810     1.000000\n",
       "max       6.824800    12.951600    17.927400     2.449500     1.000000"
      ]
     },
     "execution_count": 6,
     "metadata": {
      "tags": []
     },
     "output_type": "execute_result"
    }
   ],
   "source": [
    "# Check the model summary \n",
    "df.describe()"
   ]
  },
  {
   "cell_type": "code",
   "execution_count": 7,
   "metadata": {
    "colab": {
     "base_uri": "https://localhost:8080/",
     "height": 204
    },
    "id": "3nfrM9XlkISw",
    "outputId": "218df366-b4f9-4b6f-88ca-77b5fc3a70db"
   },
   "outputs": [
    {
     "data": {
      "text/html": [
       "<div>\n",
       "<style scoped>\n",
       "    .dataframe tbody tr th:only-of-type {\n",
       "        vertical-align: middle;\n",
       "    }\n",
       "\n",
       "    .dataframe tbody tr th {\n",
       "        vertical-align: top;\n",
       "    }\n",
       "\n",
       "    .dataframe thead th {\n",
       "        text-align: right;\n",
       "    }\n",
       "</style>\n",
       "<table border=\"1\" class=\"dataframe\">\n",
       "  <thead>\n",
       "    <tr style=\"text-align: right;\">\n",
       "      <th></th>\n",
       "      <th>variance</th>\n",
       "      <th>skewness</th>\n",
       "      <th>curtosis</th>\n",
       "      <th>entropy</th>\n",
       "      <th>class</th>\n",
       "    </tr>\n",
       "  </thead>\n",
       "  <tbody>\n",
       "    <tr>\n",
       "      <th>variance</th>\n",
       "      <td>1.000000</td>\n",
       "      <td>0.264026</td>\n",
       "      <td>-0.380850</td>\n",
       "      <td>0.276817</td>\n",
       "      <td>-0.724843</td>\n",
       "    </tr>\n",
       "    <tr>\n",
       "      <th>skewness</th>\n",
       "      <td>0.264026</td>\n",
       "      <td>1.000000</td>\n",
       "      <td>-0.786895</td>\n",
       "      <td>-0.526321</td>\n",
       "      <td>-0.444688</td>\n",
       "    </tr>\n",
       "    <tr>\n",
       "      <th>curtosis</th>\n",
       "      <td>-0.380850</td>\n",
       "      <td>-0.786895</td>\n",
       "      <td>1.000000</td>\n",
       "      <td>0.318841</td>\n",
       "      <td>0.155883</td>\n",
       "    </tr>\n",
       "    <tr>\n",
       "      <th>entropy</th>\n",
       "      <td>0.276817</td>\n",
       "      <td>-0.526321</td>\n",
       "      <td>0.318841</td>\n",
       "      <td>1.000000</td>\n",
       "      <td>-0.023424</td>\n",
       "    </tr>\n",
       "    <tr>\n",
       "      <th>class</th>\n",
       "      <td>-0.724843</td>\n",
       "      <td>-0.444688</td>\n",
       "      <td>0.155883</td>\n",
       "      <td>-0.023424</td>\n",
       "      <td>1.000000</td>\n",
       "    </tr>\n",
       "  </tbody>\n",
       "</table>\n",
       "</div>"
      ],
      "text/plain": [
       "          variance  skewness  curtosis   entropy     class\n",
       "variance  1.000000  0.264026 -0.380850  0.276817 -0.724843\n",
       "skewness  0.264026  1.000000 -0.786895 -0.526321 -0.444688\n",
       "curtosis -0.380850 -0.786895  1.000000  0.318841  0.155883\n",
       "entropy   0.276817 -0.526321  0.318841  1.000000 -0.023424\n",
       "class    -0.724843 -0.444688  0.155883 -0.023424  1.000000"
      ]
     },
     "execution_count": 7,
     "metadata": {
      "tags": []
     },
     "output_type": "execute_result"
    }
   ],
   "source": [
    "# Check Coorelation\n",
    "df.corr()"
   ]
  },
  {
   "cell_type": "code",
   "execution_count": 8,
   "metadata": {
    "colab": {
     "base_uri": "https://localhost:8080/",
     "height": 286
    },
    "id": "ElIXUgyekOru",
    "outputId": "f3aeedfa-658f-40bd-d0df-066b8a248947"
   },
   "outputs": [
    {
     "data": {
      "text/plain": [
       "<matplotlib.axes._subplots.AxesSubplot at 0x7ff9f9b22f90>"
      ]
     },
     "execution_count": 8,
     "metadata": {
      "tags": []
     },
     "output_type": "execute_result"
    },
    {
     "data": {
      "image/png": "[encoded data removed]",
      "text/plain": [
       "<Figure size 432x288 with 2 Axes>"
      ]
     },
     "metadata": {
      "needs_background": "light",
      "tags": []
     },
     "output_type": "display_data"
    }
   ],
   "source": [
    "sns.heatmap(df.corr(),annot=True)"
   ]
  },
  {
   "cell_type": "code",
   "execution_count": 9,
   "metadata": {
    "colab": {
     "base_uri": "https://localhost:8080/",
     "height": 992
    },
    "id": "zYCUtfHnkbxh",
    "outputId": "038e8f8d-2291-4301-a7ae-68aa9ac8604a"
   },
   "outputs": [
    {
     "data": {
      "image/png": "[encoded data removed]",
      "text/plain": [
       "<Figure size 1224x216 with 2 Axes>"
      ]
     },
     "metadata": {
      "needs_background": "light",
      "tags": []
     },
     "output_type": "display_data"
    },
    {
     "data": {
      "image/png": "[encoded data removed]",
      "text/plain": [
       "<Figure size 1224x216 with 2 Axes>"
      ]
     },
     "metadata": {
      "needs_background": "light",
      "tags": []
     },
     "output_type": "display_data"
    },
    {
     "data": {
      "image/png": "[encoded data removed]",
      "text/plain": [
       "<Figure size 1224x216 with 2 Axes>"
      ]
     },
     "metadata": {
      "needs_background": "light",
      "tags": []
     },
     "output_type": "display_data"
    },
    {
     "data": {
      "image/png": "[encoded data removed]",
      "text/plain": [
       "<Figure size 1224x216 with 2 Axes>"
      ]
     },
     "metadata": {
      "needs_background": "light",
      "tags": []
     },
     "output_type": "display_data"
    },
    {
     "data": {
      "image/png": "[encoded data removed]",
      "text/plain": [
       "<Figure size 1224x216 with 2 Axes>"
      ]
     },
     "metadata": {
      "needs_background": "light",
      "tags": []
     },
     "output_type": "display_data"
    }
   ],
   "source": [
    "#Univariate analysis of numerical features\n",
    "for i in df:\n",
    "    f=plt.figure(figsize=(17,3))\n",
    "    f.add_subplot(1,2,1)\n",
    "    sns.distplot(df[i],bins=30)\n",
    "    f.add_subplot(1,2,2)\n",
    "    sns.boxplot(df[i])"
   ]
  },
  {
   "cell_type": "code",
   "execution_count": 10,
   "metadata": {
    "colab": {
     "base_uri": "https://localhost:8080/"
    },
    "id": "THFd3gpzmIAF",
    "outputId": "cd556b38-9572-4fc1-cc76-8e67d69502cf"
   },
   "outputs": [
    {
     "data": {
      "text/plain": [
       "array([[1.12180565, 1.14945512, 0.97597007, 0.35456135, 0.89472059],\n",
       "       [1.44706568, 1.06445293, 0.89503626, 0.12876744, 0.89472059],\n",
       "       [1.20780971, 0.77735215, 0.12221838, 0.61807317, 0.89472059],\n",
       "       ...,\n",
       "       [1.47235682, 2.62164576, 3.75901744, 0.75488418, 1.11766736],\n",
       "       [1.40669251, 1.75647104, 2.552043  , 0.04315848, 1.11766736],\n",
       "       [1.04712236, 0.43982168, 0.29861555, 1.1364645 , 1.11766736]])"
      ]
     },
     "execution_count": 10,
     "metadata": {
      "tags": []
     },
     "output_type": "execute_result"
    }
   ],
   "source": [
    "# Check putliers\n",
    "from scipy.stats import zscore\n",
    "z=np.abs(zscore(df))\n",
    "z"
   ]
  },
  {
   "cell_type": "code",
   "execution_count": 11,
   "metadata": {
    "colab": {
     "base_uri": "https://localhost:8080/"
    },
    "id": "6t3nBnDVmMeY",
    "outputId": "d1694748-b0ac-4413-c88d-55db5cd4b63b"
   },
   "outputs": [
    {
     "name": "stdout",
     "output_type": "stream",
     "text": [
      "(array([  45,   47,  194,  202,  291,  394,  465,  529,  562,  581,  740,\n",
      "        765,  820,  826,  881,  887,  942,  948,  974, 1003, 1009, 1064,\n",
      "       1070, 1125, 1131, 1142, 1186, 1192, 1203, 1218, 1247, 1253, 1264,\n",
      "       1308, 1314, 1369]), array([3, 3, 3, 3, 3, 3, 3, 3, 3, 3, 3, 2, 2, 2, 2, 2, 2, 2, 3, 2, 2, 2,\n",
      "       2, 2, 2, 3, 2, 2, 3, 3, 2, 2, 3, 2, 2, 2]))\n"
     ]
    }
   ],
   "source": [
    "# Printing the outliers\n",
    "threshold=3\n",
    "print(np.where(z>3))"
   ]
  },
  {
   "cell_type": "code",
   "execution_count": 12,
   "metadata": {
    "id": "u3ilS6ROv5Kn"
   },
   "outputs": [],
   "source": [
    "# Removing the outliers\n",
    "bank_note = df[(z<3).all(axis=1)]"
   ]
  },
  {
   "cell_type": "code",
   "execution_count": 13,
   "metadata": {
    "colab": {
     "base_uri": "https://localhost:8080/"
    },
    "id": "oV2rL2eqmV4G",
    "outputId": "d81610e5-43fb-429f-b5ed-c8870d7ceb19"
   },
   "outputs": [
    {
     "data": {
      "text/plain": [
       "((1336, 5), (1372, 5))"
      ]
     },
     "execution_count": 13,
     "metadata": {
      "tags": []
     },
     "output_type": "execute_result"
    }
   ],
   "source": [
    "bank_note.shape, df.shape"
   ]
  },
  {
   "cell_type": "code",
   "execution_count": 14,
   "metadata": {
    "colab": {
     "base_uri": "https://localhost:8080/",
     "height": 204
    },
    "id": "JA8RqPLW0JXW",
    "outputId": "3e8f3749-663f-46dd-a7d2-79849cd2f723"
   },
   "outputs": [
    {
     "data": {
      "text/html": [
       "<div>\n",
       "<style scoped>\n",
       "    .dataframe tbody tr th:only-of-type {\n",
       "        vertical-align: middle;\n",
       "    }\n",
       "\n",
       "    .dataframe tbody tr th {\n",
       "        vertical-align: top;\n",
       "    }\n",
       "\n",
       "    .dataframe thead th {\n",
       "        text-align: right;\n",
       "    }\n",
       "</style>\n",
       "<table border=\"1\" class=\"dataframe\">\n",
       "  <thead>\n",
       "    <tr style=\"text-align: right;\">\n",
       "      <th></th>\n",
       "      <th>variance</th>\n",
       "      <th>skewness</th>\n",
       "      <th>curtosis</th>\n",
       "      <th>entropy</th>\n",
       "    </tr>\n",
       "  </thead>\n",
       "  <tbody>\n",
       "    <tr>\n",
       "      <th>0</th>\n",
       "      <td>3.62160</td>\n",
       "      <td>8.6661</td>\n",
       "      <td>-2.8073</td>\n",
       "      <td>-0.44699</td>\n",
       "    </tr>\n",
       "    <tr>\n",
       "      <th>1</th>\n",
       "      <td>4.54590</td>\n",
       "      <td>8.1674</td>\n",
       "      <td>-2.4586</td>\n",
       "      <td>-1.46210</td>\n",
       "    </tr>\n",
       "    <tr>\n",
       "      <th>2</th>\n",
       "      <td>3.86600</td>\n",
       "      <td>-2.6383</td>\n",
       "      <td>1.9242</td>\n",
       "      <td>0.10645</td>\n",
       "    </tr>\n",
       "    <tr>\n",
       "      <th>3</th>\n",
       "      <td>3.45660</td>\n",
       "      <td>9.5228</td>\n",
       "      <td>-4.0112</td>\n",
       "      <td>-3.59440</td>\n",
       "    </tr>\n",
       "    <tr>\n",
       "      <th>4</th>\n",
       "      <td>0.32924</td>\n",
       "      <td>-4.4552</td>\n",
       "      <td>4.5718</td>\n",
       "      <td>-0.98880</td>\n",
       "    </tr>\n",
       "  </tbody>\n",
       "</table>\n",
       "</div>"
      ],
      "text/plain": [
       "   variance  skewness  curtosis  entropy\n",
       "0   3.62160    8.6661   -2.8073 -0.44699\n",
       "1   4.54590    8.1674   -2.4586 -1.46210\n",
       "2   3.86600   -2.6383    1.9242  0.10645\n",
       "3   3.45660    9.5228   -4.0112 -3.59440\n",
       "4   0.32924   -4.4552    4.5718 -0.98880"
      ]
     },
     "execution_count": 14,
     "metadata": {
      "tags": []
     },
     "output_type": "execute_result"
    }
   ],
   "source": [
    "X = bank_note.iloc[:, 0:4]\n",
    "X.head()"
   ]
  },
  {
   "cell_type": "code",
   "execution_count": 15,
   "metadata": {
    "colab": {
     "base_uri": "https://localhost:8080/"
    },
    "id": "WCv5YAZhq1PP",
    "outputId": "cbd5684a-b80d-460a-a0e1-2a132bebfb85"
   },
   "outputs": [
    {
     "data": {
      "text/plain": [
       "0    0\n",
       "1    0\n",
       "2    0\n",
       "3    0\n",
       "4    0\n",
       "Name: class, dtype: int64"
      ]
     },
     "execution_count": 15,
     "metadata": {
      "tags": []
     },
     "output_type": "execute_result"
    }
   ],
   "source": [
    "y=bank_note.iloc[:,-1]\n",
    "y.head()"
   ]
  },
  {
   "cell_type": "code",
   "execution_count": 16,
   "metadata": {
    "colab": {
     "base_uri": "https://localhost:8080/"
    },
    "id": "QdxEUNDOq4K9",
    "outputId": "35372f17-cf94-4634-81e3-086eba0ede2e"
   },
   "outputs": [
    {
     "data": {
      "text/plain": [
       "(1336, 4)"
      ]
     },
     "execution_count": 16,
     "metadata": {
      "tags": []
     },
     "output_type": "execute_result"
    }
   ],
   "source": [
    "X.shape"
   ]
  },
  {
   "cell_type": "code",
   "execution_count": 17,
   "metadata": {
    "colab": {
     "base_uri": "https://localhost:8080/"
    },
    "id": "t2UxD8dwq9VL",
    "outputId": "ae06d742-e53f-4ea1-9809-bfbc97b91401"
   },
   "outputs": [
    {
     "data": {
      "text/plain": [
       "(1336,)"
      ]
     },
     "execution_count": 17,
     "metadata": {
      "tags": []
     },
     "output_type": "execute_result"
    }
   ],
   "source": [
    "y.shape"
   ]
  },
  {
   "cell_type": "code",
   "execution_count": 18,
   "metadata": {
    "id": "df4Q__jCrBSh"
   },
   "outputs": [],
   "source": [
    "# Changing the datatype of our independent and dependent variable\n",
    "X = np.array(X).astype('float32')\n",
    "y = np.array(y).astype('float32')"
   ]
  },
  {
   "cell_type": "code",
   "execution_count": 19,
   "metadata": {
    "id": "b5ehcjzfrGB8"
   },
   "outputs": [],
   "source": [
    "# Reshaping our target feature\n",
    "y = y.reshape(-1,1)"
   ]
  },
  {
   "cell_type": "code",
   "execution_count": 20,
   "metadata": {
    "colab": {
     "base_uri": "https://localhost:8080/"
    },
    "id": "N4Mk9c4-rMsc",
    "outputId": "3a7e02d8-c4c4-4ae3-fa85-6db1c3b9d5e0"
   },
   "outputs": [
    {
     "data": {
      "text/plain": [
       "(1336, 1)"
      ]
     },
     "execution_count": 20,
     "metadata": {
      "tags": []
     },
     "output_type": "execute_result"
    }
   ],
   "source": [
    "y.shape"
   ]
  },
  {
   "cell_type": "code",
   "execution_count": 21,
   "metadata": {
    "id": "5H6B4cCzrPwZ"
   },
   "outputs": [],
   "source": [
    "# Splitting the dataset into train and test\n",
    "from sklearn.model_selection import train_test_split\n",
    "X_train, X_test, y_train, y_test = train_test_split(X, y, test_size = .20, random_state=42)"
   ]
  },
  {
   "cell_type": "code",
   "execution_count": 22,
   "metadata": {
    "colab": {
     "base_uri": "https://localhost:8080/"
    },
    "id": "X2DkY1QarWTp",
    "outputId": "95b4bac2-e489-42d4-9187-133c7ac11f70"
   },
   "outputs": [
    {
     "data": {
      "text/plain": [
       "(1068, 268, 1068, 268)"
      ]
     },
     "execution_count": 22,
     "metadata": {
      "tags": []
     },
     "output_type": "execute_result"
    }
   ],
   "source": [
    "len(X_train), len(X_test), len(y_train), len(y_test)"
   ]
  },
  {
   "cell_type": "code",
   "execution_count": 23,
   "metadata": {
    "id": "6bcIYljarZ1N"
   },
   "outputs": [],
   "source": [
    "# Scaling the data before feeding the model\n",
    "from sklearn.preprocessing import StandardScaler\n",
    "scaler_train = StandardScaler()\n",
    "X_train = scaler_train.fit_transform(X_train)\n",
    "\n",
    "scaler_test = StandardScaler()\n",
    "X_test = scaler_test.fit_transform(X_test)"
   ]
  },
  {
   "cell_type": "code",
   "execution_count": 25,
   "metadata": {
    "colab": {
     "base_uri": "https://localhost:8080/"
    },
    "id": "jjaPmGoHrdD-",
    "outputId": "d32b031a-e0eb-4d64-e778-6b5314c59b13"
   },
   "outputs": [
    {
     "name": "stdout",
     "output_type": "stream",
     "text": [
      "2.5.0\n"
     ]
    }
   ],
   "source": [
    "# Importing the tensorflow library\n",
    "import tensorflow as tf\n",
    "print(tf.__version__)"
   ]
  },
  {
   "cell_type": "code",
   "execution_count": 28,
   "metadata": {
    "id": "byUeFH4mrhlZ"
   },
   "outputs": [],
   "source": [
    "# Let's create a model to fit on the training data and evaluate on the testing data\n",
    "\n",
    "# Set random seed\n",
    "tf.random.set_seed(42)\n",
    "\n",
    "# 1. Create a model \n",
    "model = tf.keras.Sequential([\n",
    "    tf.keras.layers.Dense(10, activation='relu'),\n",
    "    tf.keras.layers.Dense(8, activation='relu'),\n",
    "    tf.keras.layers.Dense(1, activation='sigmoid')\n",
    "])\n",
    "\n",
    "# 2. Compile the model\n",
    "model.compile(loss=tf.keras.losses.BinaryCrossentropy(),\n",
    "              optimizer = tf.keras.optimizers.Adam(lr=0.01),\n",
    "              metrics=['accuracy'])\n",
    "\n",
    "# 3. Fit the model\n",
    "history = model.fit(X_train, y_train, epochs= 30)"
   ]
  },
  {
   "cell_type": "code",
   "execution_count": 27,
   "metadata": {
    "colab": {
     "base_uri": "https://localhost:8080/"
    },
    "id": "V7oO4vL0uW3b",
    "outputId": "61120a25-a2c6-4b3f-de7e-b40df5ac7130"
   },
   "outputs": [
    {
     "name": "stdout",
     "output_type": "stream",
     "text": [
      "9/9 [==============================] - 0s 2ms/step - loss: 7.8854e-04 - accuracy: 1.0000\n"
     ]
    },
    {
     "data": {
      "text/plain": [
       "[0.0007885402883403003, 1.0]"
      ]
     },
     "execution_count": 27,
     "metadata": {
      "tags": []
     },
     "output_type": "execute_result"
    }
   ],
   "source": [
    "# Evaluate the model on the test dataset\n",
    "model.evaluate(X_test, y_test)"
   ]
  },
  {
   "cell_type": "code",
   "execution_count": 29,
   "metadata": {
    "colab": {
     "base_uri": "https://localhost:8080/",
     "height": 298
    },
    "id": "7p26y3Y3wiZ6",
    "outputId": "d1b5777a-8dfd-47e9-8d48-64fcd27da11e"
   },
   "outputs": [
    {
     "data": {
      "text/plain": [
       "Text(0.5, 1.0, 'Model loss curves')"
      ]
     },
     "execution_count": 29,
     "metadata": {
      "tags": []
     },
     "output_type": "execute_result"
    },
    {
     "data": {
      "image/png": "[encoded data removed]",
      "text/plain": [
       "<Figure size 432x288 with 1 Axes>"
      ]
     },
     "metadata": {
      "needs_background": "light",
      "tags": []
     },
     "output_type": "display_data"
    }
   ],
   "source": [
    "# Plot the loss curves\n",
    "pd.DataFrame(history.history).plot()\n",
    "plt.title(\"Model loss curves\")"
   ]
  },
  {
   "cell_type": "code",
   "execution_count": 28,
   "metadata": {
    "colab": {
     "base_uri": "https://localhost:8080/"
    },
    "id": "3UPV5oopurXR",
    "outputId": "d5257c1e-05f8-457c-c693-4a4fa0cc00ac"
   },
   "outputs": [
    {
     "name": "stdout",
     "output_type": "stream",
     "text": [
      "Epoch 1/80\n",
      "34/34 [==============================] - 1s 5ms/step - loss: 0.6676 - accuracy: 0.5552 - val_loss: 0.6536 - val_accuracy: 0.5896\n",
      "Epoch 2/80\n",
      "34/34 [==============================] - 0s 3ms/step - loss: 0.6583 - accuracy: 0.5618 - val_loss: 0.6450 - val_accuracy: 0.6082\n",
      "Epoch 3/80\n",
      "34/34 [==============================] - 0s 2ms/step - loss: 0.6485 - accuracy: 0.5730 - val_loss: 0.6355 - val_accuracy: 0.6194\n",
      "Epoch 4/80\n",
      "34/34 [==============================] - 0s 2ms/step - loss: 0.6379 - accuracy: 0.5899 - val_loss: 0.6255 - val_accuracy: 0.6418\n",
      "Epoch 5/80\n",
      "34/34 [==============================] - 0s 2ms/step - loss: 0.6265 - accuracy: 0.6199 - val_loss: 0.6144 - val_accuracy: 0.6567\n",
      "Epoch 6/80\n",
      "34/34 [==============================] - 0s 2ms/step - loss: 0.6142 - accuracy: 0.6451 - val_loss: 0.6023 - val_accuracy: 0.6828\n",
      "Epoch 7/80\n",
      "34/34 [==============================] - 0s 2ms/step - loss: 0.6007 - accuracy: 0.6601 - val_loss: 0.5890 - val_accuracy: 0.7164\n",
      "Epoch 8/80\n",
      "34/34 [==============================] - 0s 3ms/step - loss: 0.5860 - accuracy: 0.6938 - val_loss: 0.5743 - val_accuracy: 0.7575\n",
      "Epoch 9/80\n",
      "34/34 [==============================] - 0s 2ms/step - loss: 0.5696 - accuracy: 0.7275 - val_loss: 0.5583 - val_accuracy: 0.7687\n",
      "Epoch 10/80\n",
      "34/34 [==============================] - 0s 2ms/step - loss: 0.5515 - accuracy: 0.7884 - val_loss: 0.5399 - val_accuracy: 0.7799\n",
      "Epoch 11/80\n",
      "34/34 [==============================] - 0s 2ms/step - loss: 0.5316 - accuracy: 0.8099 - val_loss: 0.5207 - val_accuracy: 0.7985\n",
      "Epoch 12/80\n",
      "34/34 [==============================] - 0s 2ms/step - loss: 0.5104 - accuracy: 0.8315 - val_loss: 0.4991 - val_accuracy: 0.8284\n",
      "Epoch 13/80\n",
      "34/34 [==============================] - 0s 2ms/step - loss: 0.4873 - accuracy: 0.8343 - val_loss: 0.4752 - val_accuracy: 0.8433\n",
      "Epoch 14/80\n",
      "34/34 [==============================] - 0s 2ms/step - loss: 0.4618 - accuracy: 0.8474 - val_loss: 0.4497 - val_accuracy: 0.8433\n",
      "Epoch 15/80\n",
      "34/34 [==============================] - 0s 2ms/step - loss: 0.4334 - accuracy: 0.8605 - val_loss: 0.4204 - val_accuracy: 0.8545\n",
      "Epoch 16/80\n",
      "34/34 [==============================] - 0s 2ms/step - loss: 0.4020 - accuracy: 0.8755 - val_loss: 0.3876 - val_accuracy: 0.8694\n",
      "Epoch 17/80\n",
      "34/34 [==============================] - 0s 2ms/step - loss: 0.3660 - accuracy: 0.8876 - val_loss: 0.3486 - val_accuracy: 0.8731\n",
      "Epoch 18/80\n",
      "34/34 [==============================] - 0s 2ms/step - loss: 0.3250 - accuracy: 0.9007 - val_loss: 0.3065 - val_accuracy: 0.8955\n",
      "Epoch 19/80\n",
      "34/34 [==============================] - 0s 2ms/step - loss: 0.2804 - accuracy: 0.9204 - val_loss: 0.2619 - val_accuracy: 0.9142\n",
      "Epoch 20/80\n",
      "34/34 [==============================] - 0s 2ms/step - loss: 0.2345 - accuracy: 0.9345 - val_loss: 0.2178 - val_accuracy: 0.9328\n",
      "Epoch 21/80\n",
      "34/34 [==============================] - 0s 2ms/step - loss: 0.1902 - accuracy: 0.9476 - val_loss: 0.1790 - val_accuracy: 0.9515\n",
      "Epoch 22/80\n",
      "34/34 [==============================] - 0s 2ms/step - loss: 0.1506 - accuracy: 0.9635 - val_loss: 0.1471 - val_accuracy: 0.9627\n",
      "Epoch 23/80\n",
      "34/34 [==============================] - 0s 2ms/step - loss: 0.1175 - accuracy: 0.9710 - val_loss: 0.1223 - val_accuracy: 0.9701\n",
      "Epoch 24/80\n",
      "34/34 [==============================] - 0s 2ms/step - loss: 0.0925 - accuracy: 0.9813 - val_loss: 0.1036 - val_accuracy: 0.9701\n",
      "Epoch 25/80\n",
      "34/34 [==============================] - 0s 3ms/step - loss: 0.0746 - accuracy: 0.9831 - val_loss: 0.0888 - val_accuracy: 0.9701\n",
      "Epoch 26/80\n",
      "34/34 [==============================] - 0s 2ms/step - loss: 0.0608 - accuracy: 0.9841 - val_loss: 0.0766 - val_accuracy: 0.9701\n",
      "Epoch 27/80\n",
      "34/34 [==============================] - 0s 2ms/step - loss: 0.0514 - accuracy: 0.9841 - val_loss: 0.0676 - val_accuracy: 0.9701\n",
      "Epoch 28/80\n",
      "34/34 [==============================] - 0s 3ms/step - loss: 0.0429 - accuracy: 0.9850 - val_loss: 0.0593 - val_accuracy: 0.9701\n",
      "Epoch 29/80\n",
      "34/34 [==============================] - 0s 2ms/step - loss: 0.0366 - accuracy: 0.9841 - val_loss: 0.0518 - val_accuracy: 0.9701\n",
      "Epoch 30/80\n",
      "34/34 [==============================] - 0s 2ms/step - loss: 0.0314 - accuracy: 0.9850 - val_loss: 0.0465 - val_accuracy: 0.9701\n",
      "Epoch 31/80\n",
      "34/34 [==============================] - 0s 2ms/step - loss: 0.0269 - accuracy: 0.9925 - val_loss: 0.0415 - val_accuracy: 0.9701\n",
      "Epoch 32/80\n",
      "34/34 [==============================] - 0s 2ms/step - loss: 0.0227 - accuracy: 0.9963 - val_loss: 0.0389 - val_accuracy: 0.9701\n",
      "Epoch 33/80\n",
      "34/34 [==============================] - 0s 3ms/step - loss: 0.0195 - accuracy: 0.9944 - val_loss: 0.0319 - val_accuracy: 0.9739\n",
      "Epoch 34/80\n",
      "34/34 [==============================] - 0s 2ms/step - loss: 0.0160 - accuracy: 0.9963 - val_loss: 0.0278 - val_accuracy: 0.9813\n",
      "Epoch 35/80\n",
      "34/34 [==============================] - 0s 2ms/step - loss: 0.0128 - accuracy: 1.0000 - val_loss: 0.0216 - val_accuracy: 1.0000\n",
      "Epoch 36/80\n",
      "34/34 [==============================] - 0s 2ms/step - loss: 0.0107 - accuracy: 1.0000 - val_loss: 0.0179 - val_accuracy: 1.0000\n",
      "Epoch 37/80\n",
      "34/34 [==============================] - 0s 2ms/step - loss: 0.0087 - accuracy: 1.0000 - val_loss: 0.0173 - val_accuracy: 1.0000\n",
      "Epoch 38/80\n",
      "34/34 [==============================] - 0s 3ms/step - loss: 0.0072 - accuracy: 1.0000 - val_loss: 0.0139 - val_accuracy: 1.0000\n",
      "Epoch 39/80\n",
      "34/34 [==============================] - 0s 2ms/step - loss: 0.0058 - accuracy: 1.0000 - val_loss: 0.0110 - val_accuracy: 1.0000\n",
      "Epoch 40/80\n",
      "34/34 [==============================] - 0s 2ms/step - loss: 0.0052 - accuracy: 1.0000 - val_loss: 0.0106 - val_accuracy: 1.0000\n",
      "Epoch 41/80\n",
      "34/34 [==============================] - 0s 3ms/step - loss: 0.0038 - accuracy: 1.0000 - val_loss: 0.0101 - val_accuracy: 1.0000\n",
      "Epoch 42/80\n",
      "34/34 [==============================] - 0s 3ms/step - loss: 0.0031 - accuracy: 1.0000 - val_loss: 0.0064 - val_accuracy: 1.0000\n",
      "Epoch 43/80\n",
      "34/34 [==============================] - 0s 2ms/step - loss: 0.0024 - accuracy: 1.0000 - val_loss: 0.0055 - val_accuracy: 1.0000\n",
      "Epoch 44/80\n",
      "34/34 [==============================] - 0s 2ms/step - loss: 0.0020 - accuracy: 1.0000 - val_loss: 0.0045 - val_accuracy: 1.0000\n",
      "Epoch 45/80\n",
      "34/34 [==============================] - 0s 3ms/step - loss: 0.0015 - accuracy: 1.0000 - val_loss: 0.0040 - val_accuracy: 1.0000\n",
      "Epoch 46/80\n",
      "34/34 [==============================] - 0s 3ms/step - loss: 0.0012 - accuracy: 1.0000 - val_loss: 0.0039 - val_accuracy: 1.0000\n",
      "Epoch 47/80\n",
      "34/34 [==============================] - 0s 3ms/step - loss: 9.8741e-04 - accuracy: 1.0000 - val_loss: 0.0024 - val_accuracy: 1.0000\n",
      "Epoch 48/80\n",
      "34/34 [==============================] - 0s 2ms/step - loss: 8.7088e-04 - accuracy: 1.0000 - val_loss: 0.0020 - val_accuracy: 1.0000\n",
      "Epoch 49/80\n",
      "34/34 [==============================] - 0s 2ms/step - loss: 6.3817e-04 - accuracy: 1.0000 - val_loss: 0.0024 - val_accuracy: 1.0000\n",
      "Epoch 50/80\n",
      "34/34 [==============================] - 0s 2ms/step - loss: 5.6159e-04 - accuracy: 1.0000 - val_loss: 0.0024 - val_accuracy: 1.0000\n",
      "Epoch 51/80\n",
      "34/34 [==============================] - 0s 2ms/step - loss: 4.5590e-04 - accuracy: 1.0000 - val_loss: 0.0017 - val_accuracy: 1.0000\n",
      "Epoch 52/80\n",
      "34/34 [==============================] - 0s 2ms/step - loss: 4.3626e-04 - accuracy: 1.0000 - val_loss: 0.0014 - val_accuracy: 1.0000\n",
      "Epoch 53/80\n",
      "34/34 [==============================] - 0s 2ms/step - loss: 3.5903e-04 - accuracy: 1.0000 - val_loss: 7.2760e-04 - val_accuracy: 1.0000\n",
      "Epoch 54/80\n",
      "34/34 [==============================] - 0s 2ms/step - loss: 2.4920e-04 - accuracy: 1.0000 - val_loss: 8.7514e-04 - val_accuracy: 1.0000\n",
      "Epoch 55/80\n",
      "34/34 [==============================] - 0s 2ms/step - loss: 1.9863e-04 - accuracy: 1.0000 - val_loss: 6.2517e-04 - val_accuracy: 1.0000\n",
      "Epoch 56/80\n",
      "34/34 [==============================] - 0s 3ms/step - loss: 1.8953e-04 - accuracy: 1.0000 - val_loss: 5.7032e-04 - val_accuracy: 1.0000\n",
      "Epoch 57/80\n",
      "34/34 [==============================] - 0s 2ms/step - loss: 1.5540e-04 - accuracy: 1.0000 - val_loss: 6.9655e-04 - val_accuracy: 1.0000\n",
      "Epoch 58/80\n",
      "34/34 [==============================] - 0s 2ms/step - loss: 1.2347e-04 - accuracy: 1.0000 - val_loss: 5.6835e-04 - val_accuracy: 1.0000\n",
      "Epoch 59/80\n",
      "34/34 [==============================] - 0s 3ms/step - loss: 1.0025e-04 - accuracy: 1.0000 - val_loss: 4.2226e-04 - val_accuracy: 1.0000\n",
      "Epoch 60/80\n",
      "34/34 [==============================] - 0s 3ms/step - loss: 8.6906e-05 - accuracy: 1.0000 - val_loss: 4.0473e-04 - val_accuracy: 1.0000\n",
      "Epoch 61/80\n",
      "34/34 [==============================] - 0s 2ms/step - loss: 7.3465e-05 - accuracy: 1.0000 - val_loss: 3.6374e-04 - val_accuracy: 1.0000\n",
      "Epoch 62/80\n",
      "34/34 [==============================] - 0s 2ms/step - loss: 6.8454e-05 - accuracy: 1.0000 - val_loss: 2.6340e-04 - val_accuracy: 1.0000\n",
      "Epoch 63/80\n",
      "34/34 [==============================] - 0s 2ms/step - loss: 5.6296e-05 - accuracy: 1.0000 - val_loss: 2.3710e-04 - val_accuracy: 1.0000\n",
      "Epoch 64/80\n",
      "34/34 [==============================] - 0s 2ms/step - loss: 5.0139e-05 - accuracy: 1.0000 - val_loss: 4.4077e-04 - val_accuracy: 1.0000\n",
      "Epoch 65/80\n",
      "34/34 [==============================] - 0s 2ms/step - loss: 4.0654e-05 - accuracy: 1.0000 - val_loss: 2.1020e-04 - val_accuracy: 1.0000\n",
      "Epoch 66/80\n",
      "34/34 [==============================] - 0s 2ms/step - loss: 3.7211e-05 - accuracy: 1.0000 - val_loss: 2.1613e-04 - val_accuracy: 1.0000\n",
      "Epoch 67/80\n",
      "34/34 [==============================] - 0s 2ms/step - loss: 3.0821e-05 - accuracy: 1.0000 - val_loss: 1.2973e-04 - val_accuracy: 1.0000\n",
      "Epoch 68/80\n",
      "34/34 [==============================] - 0s 2ms/step - loss: 2.6297e-05 - accuracy: 1.0000 - val_loss: 3.1219e-04 - val_accuracy: 1.0000\n",
      "Epoch 69/80\n",
      "34/34 [==============================] - 0s 2ms/step - loss: 2.6151e-05 - accuracy: 1.0000 - val_loss: 1.0891e-04 - val_accuracy: 1.0000\n",
      "Epoch 70/80\n",
      "34/34 [==============================] - 0s 3ms/step - loss: 1.6936e-05 - accuracy: 1.0000 - val_loss: 1.0430e-04 - val_accuracy: 1.0000\n",
      "Epoch 71/80\n",
      "34/34 [==============================] - 0s 2ms/step - loss: 1.4591e-05 - accuracy: 1.0000 - val_loss: 1.0619e-04 - val_accuracy: 1.0000\n",
      "Epoch 72/80\n",
      "34/34 [==============================] - 0s 2ms/step - loss: 1.1835e-05 - accuracy: 1.0000 - val_loss: 7.9775e-05 - val_accuracy: 1.0000\n",
      "Epoch 73/80\n",
      "34/34 [==============================] - 0s 2ms/step - loss: 1.1480e-05 - accuracy: 1.0000 - val_loss: 7.2852e-05 - val_accuracy: 1.0000\n",
      "Epoch 74/80\n",
      "34/34 [==============================] - 0s 2ms/step - loss: 9.8568e-06 - accuracy: 1.0000 - val_loss: 1.1277e-04 - val_accuracy: 1.0000\n",
      "Epoch 75/80\n",
      "34/34 [==============================] - 0s 2ms/step - loss: 9.7737e-06 - accuracy: 1.0000 - val_loss: 4.6265e-05 - val_accuracy: 1.0000\n",
      "Epoch 76/80\n",
      "34/34 [==============================] - 0s 2ms/step - loss: 7.4519e-06 - accuracy: 1.0000 - val_loss: 4.3733e-05 - val_accuracy: 1.0000\n",
      "Epoch 77/80\n",
      "34/34 [==============================] - 0s 2ms/step - loss: 5.6201e-06 - accuracy: 1.0000 - val_loss: 2.8492e-05 - val_accuracy: 1.0000\n",
      "Epoch 78/80\n",
      "34/34 [==============================] - 0s 2ms/step - loss: 4.6310e-06 - accuracy: 1.0000 - val_loss: 3.7509e-05 - val_accuracy: 1.0000\n",
      "Epoch 79/80\n",
      "34/34 [==============================] - 0s 2ms/step - loss: 4.5086e-06 - accuracy: 1.0000 - val_loss: 3.0549e-05 - val_accuracy: 1.0000\n",
      "Epoch 80/80\n",
      "34/34 [==============================] - 0s 2ms/step - loss: 3.8595e-06 - accuracy: 1.0000 - val_loss: 2.5025e-05 - val_accuracy: 1.0000\n"
     ]
    }
   ],
   "source": [
    "# Let's create a model to fit on the training data and evaluate on the testing data\n",
    "\n",
    "# Set random seed\n",
    "tf.random.set_seed(42)\n",
    "\n",
    "# 1. Create a model \n",
    "model_1 = tf.keras.Sequential([\n",
    "    tf.keras.layers.Dense(10, activation='relu'),\n",
    "    tf.keras.layers.Dense(8, activation='relu'),\n",
    "    tf.keras.layers.Dense(1, activation='sigmoid')\n",
    "])\n",
    "\n",
    "# 2. Compile the model\n",
    "model_1.compile(loss=tf.keras.losses.BinaryCrossentropy(),\n",
    "              optimizer = tf.keras.optimizers.Adam(),\n",
    "              metrics=['accuracy'])\n",
    "\n",
    "# Create a learning rate callback\n",
    "lr_schedular = tf.keras.callbacks.LearningRateScheduler(lambda epoch: 1e-4 * (10**(epoch/20)))\n",
    "\n",
    "# 3. Fit the model\n",
    "history_1 = model_1.fit(X_train, \n",
    "                      y_train,\n",
    "                      validation_data = (X_test, y_test),\n",
    "                      batch_size = 32,\n",
    "                      epochs = 80,\n",
    "                      callbacks=[lr_schedular])"
   ]
  },
  {
   "cell_type": "code",
   "execution_count": 30,
   "metadata": {
    "colab": {
     "base_uri": "https://localhost:8080/",
     "height": 459
    },
    "id": "JA0M14-suxpW",
    "outputId": "6b568157-1471-4707-9cf9-be6a3cd9033f"
   },
   "outputs": [
    {
     "data": {
      "text/plain": [
       "<matplotlib.axes._subplots.AxesSubplot at 0x7ff9abc28bd0>"
      ]
     },
     "execution_count": 30,
     "metadata": {
      "tags": []
     },
     "output_type": "execute_result"
    },
    {
     "data": {
      "image/png": "[encoded data removed]",
      "text/plain": [
       "<Figure size 720x504 with 1 Axes>"
      ]
     },
     "metadata": {
      "needs_background": "light",
      "tags": []
     },
     "output_type": "display_data"
    }
   ],
   "source": [
    "# Check the history\n",
    "pd.DataFrame(history_1.history).plot(figsize=(10, 7), xlabel=\"epochs\")"
   ]
  },
  {
   "cell_type": "code",
   "execution_count": 31,
   "metadata": {
    "colab": {
     "base_uri": "https://localhost:8080/",
     "height": 479
    },
    "id": "HYR80QipxC79",
    "outputId": "892a2cb8-f85f-4dbb-df97-4765878cdc67"
   },
   "outputs": [
    {
     "data": {
      "text/plain": [
       "Text(0.5, 1.0, 'Learning rate vs Loss')"
      ]
     },
     "execution_count": 31,
     "metadata": {
      "tags": []
     },
     "output_type": "execute_result"
    },
    {
     "data": {
      "image/png": "[encoded data removed]",
      "text/plain": [
       "<Figure size 720x504 with 1 Axes>"
      ]
     },
     "metadata": {
      "needs_background": "light",
      "tags": []
     },
     "output_type": "display_data"
    }
   ],
   "source": [
    "# Plot the learning rate versus the loss\n",
    "lrs = 1e-4 * (10 ** (tf.range(80)/20))\n",
    "plt.figure(figsize=(10,7))\n",
    "plt.semilogx(lrs, history_1.history[\"loss\"])\n",
    "plt.xlabel(\"Learning Rate\")\n",
    "plt.ylabel(\"Loss\")\n",
    "plt.title(\"Learning rate vs Loss\")"
   ]
  },
  {
   "cell_type": "markdown",
   "metadata": {
    "id": "jATvCf9Z0rA1"
   },
   "source": [
    "## Let's Build our Final Model with our Learning rate "
   ]
  },
  {
   "cell_type": "code",
   "execution_count": 32,
   "metadata": {
    "colab": {
     "base_uri": "https://localhost:8080/"
    },
    "id": "TDYyFz5vx8GG",
    "outputId": "96c8e2ac-129d-43ad-92e3-944611e5f0ad"
   },
   "outputs": [
    {
     "name": "stdout",
     "output_type": "stream",
     "text": [
      "Epoch 1/30\n",
      "34/34 [==============================] - 1s 10ms/step - loss: 0.2658 - accuracy: 0.8979 - val_loss: 0.0945 - val_accuracy: 0.9701\n",
      "Epoch 2/30\n",
      "34/34 [==============================] - 0s 2ms/step - loss: 0.0280 - accuracy: 0.9906 - val_loss: 0.0212 - val_accuracy: 1.0000\n",
      "Epoch 3/30\n",
      "34/34 [==============================] - 0s 2ms/step - loss: 0.0082 - accuracy: 1.0000 - val_loss: 0.0083 - val_accuracy: 1.0000\n",
      "Epoch 4/30\n",
      "34/34 [==============================] - 0s 2ms/step - loss: 0.0036 - accuracy: 1.0000 - val_loss: 0.0064 - val_accuracy: 1.0000\n",
      "Epoch 5/30\n",
      "34/34 [==============================] - 0s 2ms/step - loss: 0.0031 - accuracy: 0.9991 - val_loss: 0.0031 - val_accuracy: 1.0000\n",
      "Epoch 6/30\n",
      "34/34 [==============================] - 0s 2ms/step - loss: 0.0010 - accuracy: 1.0000 - val_loss: 0.0017 - val_accuracy: 1.0000\n",
      "Epoch 7/30\n",
      "34/34 [==============================] - 0s 2ms/step - loss: 6.3143e-04 - accuracy: 1.0000 - val_loss: 0.0018 - val_accuracy: 1.0000\n",
      "Epoch 8/30\n",
      "34/34 [==============================] - 0s 2ms/step - loss: 4.9399e-04 - accuracy: 1.0000 - val_loss: 0.0018 - val_accuracy: 1.0000\n",
      "Epoch 9/30\n",
      "34/34 [==============================] - 0s 2ms/step - loss: 3.8906e-04 - accuracy: 1.0000 - val_loss: 0.0013 - val_accuracy: 1.0000\n",
      "Epoch 10/30\n",
      "34/34 [==============================] - 0s 2ms/step - loss: 3.1889e-04 - accuracy: 1.0000 - val_loss: 9.4062e-04 - val_accuracy: 1.0000\n",
      "Epoch 11/30\n",
      "34/34 [==============================] - 0s 2ms/step - loss: 2.6312e-04 - accuracy: 1.0000 - val_loss: 0.0012 - val_accuracy: 1.0000\n",
      "Epoch 12/30\n",
      "34/34 [==============================] - 0s 2ms/step - loss: 2.3260e-04 - accuracy: 1.0000 - val_loss: 8.4985e-04 - val_accuracy: 1.0000\n",
      "Epoch 13/30\n",
      "34/34 [==============================] - 0s 2ms/step - loss: 1.9418e-04 - accuracy: 1.0000 - val_loss: 8.4883e-04 - val_accuracy: 1.0000\n",
      "Epoch 14/30\n",
      "34/34 [==============================] - 0s 2ms/step - loss: 1.7239e-04 - accuracy: 1.0000 - val_loss: 7.2449e-04 - val_accuracy: 1.0000\n",
      "Epoch 15/30\n",
      "34/34 [==============================] - 0s 2ms/step - loss: 1.4800e-04 - accuracy: 1.0000 - val_loss: 6.4828e-04 - val_accuracy: 1.0000\n",
      "Epoch 16/30\n",
      "34/34 [==============================] - 0s 2ms/step - loss: 1.3536e-04 - accuracy: 1.0000 - val_loss: 6.2867e-04 - val_accuracy: 1.0000\n",
      "Epoch 17/30\n",
      "34/34 [==============================] - 0s 2ms/step - loss: 1.2225e-04 - accuracy: 1.0000 - val_loss: 5.9417e-04 - val_accuracy: 1.0000\n",
      "Epoch 18/30\n",
      "34/34 [==============================] - 0s 2ms/step - loss: 1.0822e-04 - accuracy: 1.0000 - val_loss: 6.0698e-04 - val_accuracy: 1.0000\n",
      "Epoch 19/30\n",
      "34/34 [==============================] - 0s 2ms/step - loss: 1.0123e-04 - accuracy: 1.0000 - val_loss: 4.8517e-04 - val_accuracy: 1.0000\n",
      "Epoch 20/30\n",
      "34/34 [==============================] - 0s 2ms/step - loss: 8.9101e-05 - accuracy: 1.0000 - val_loss: 4.2231e-04 - val_accuracy: 1.0000\n",
      "Epoch 21/30\n",
      "34/34 [==============================] - 0s 2ms/step - loss: 8.1187e-05 - accuracy: 1.0000 - val_loss: 4.3188e-04 - val_accuracy: 1.0000\n",
      "Epoch 22/30\n",
      "34/34 [==============================] - 0s 2ms/step - loss: 7.2397e-05 - accuracy: 1.0000 - val_loss: 4.4798e-04 - val_accuracy: 1.0000\n",
      "Epoch 23/30\n",
      "34/34 [==============================] - 0s 2ms/step - loss: 6.6751e-05 - accuracy: 1.0000 - val_loss: 4.1832e-04 - val_accuracy: 1.0000\n",
      "Epoch 24/30\n",
      "34/34 [==============================] - 0s 2ms/step - loss: 6.1774e-05 - accuracy: 1.0000 - val_loss: 4.0233e-04 - val_accuracy: 1.0000\n",
      "Epoch 25/30\n",
      "34/34 [==============================] - 0s 2ms/step - loss: 5.7783e-05 - accuracy: 1.0000 - val_loss: 3.6528e-04 - val_accuracy: 1.0000\n",
      "Epoch 26/30\n",
      "34/34 [==============================] - 0s 2ms/step - loss: 5.3302e-05 - accuracy: 1.0000 - val_loss: 3.7733e-04 - val_accuracy: 1.0000\n",
      "Epoch 27/30\n",
      "34/34 [==============================] - 0s 2ms/step - loss: 5.0005e-05 - accuracy: 1.0000 - val_loss: 3.2302e-04 - val_accuracy: 1.0000\n",
      "Epoch 28/30\n",
      "34/34 [==============================] - 0s 2ms/step - loss: 4.6627e-05 - accuracy: 1.0000 - val_loss: 3.0676e-04 - val_accuracy: 1.0000\n",
      "Epoch 29/30\n",
      "34/34 [==============================] - 0s 2ms/step - loss: 4.3459e-05 - accuracy: 1.0000 - val_loss: 3.0879e-04 - val_accuracy: 1.0000\n",
      "Epoch 30/30\n",
      "34/34 [==============================] - 0s 2ms/step - loss: 4.1210e-05 - accuracy: 1.0000 - val_loss: 3.1507e-04 - val_accuracy: 1.0000\n"
     ]
    }
   ],
   "source": [
    "#  Let's try using a higher ideal learning rate with the same model as before\n",
    "\n",
    "# Set random seed\n",
    "tf.random.set_seed(42)\n",
    "\n",
    "# 1. Create a model \n",
    "model_2 = tf.keras.Sequential([\n",
    "    tf.keras.layers.Dense(10, activation='relu'),\n",
    "    tf.keras.layers.Dense(8, activation='relu'),\n",
    "    tf.keras.layers.Dense(1, activation='sigmoid')\n",
    "])\n",
    "\n",
    "# 2. Compile the model\n",
    "model_2.compile(loss=tf.keras.losses.BinaryCrossentropy(),\n",
    "              optimizer = tf.keras.optimizers.Adam(lr=0.02),\n",
    "              metrics=['accuracy'])\n",
    "\n",
    "# 3. Fit the model\n",
    "history_2 = model_2.fit(X_train, y_train, \n",
    "                      validation_data = (X_test, y_test) ,\n",
    "                      batch_size = 32,\n",
    "                      epochs= 30)"
   ]
  },
  {
   "cell_type": "code",
   "execution_count": 33,
   "metadata": {
    "colab": {
     "base_uri": "https://localhost:8080/"
    },
    "id": "XTHbezUBzBis",
    "outputId": "763d71b8-ed9e-4203-8ad1-0ad71435144d"
   },
   "outputs": [
    {
     "name": "stdout",
     "output_type": "stream",
     "text": [
      "9/9 [==============================] - 0s 2ms/step - loss: 3.1507e-04 - accuracy: 1.0000\n"
     ]
    },
    {
     "data": {
      "text/plain": [
       "[0.00031506872619502246, 1.0]"
      ]
     },
     "execution_count": 33,
     "metadata": {
      "tags": []
     },
     "output_type": "execute_result"
    }
   ],
   "source": [
    "# Evaluate model 2 on the test dataset\n",
    "model_2.evaluate(X_test, y_test)"
   ]
  },
  {
   "cell_type": "code",
   "execution_count": 34,
   "metadata": {
    "colab": {
     "base_uri": "https://localhost:8080/",
     "height": 459
    },
    "id": "-BudTIxQzXrG",
    "outputId": "246c13f2-5951-43e6-de78-e0d8d6af9158"
   },
   "outputs": [
    {
     "data": {
      "text/plain": [
       "<matplotlib.axes._subplots.AxesSubplot at 0x7ff9abda8d90>"
      ]
     },
     "execution_count": 34,
     "metadata": {
      "tags": []
     },
     "output_type": "execute_result"
    },
    {
     "data": {
      "image/png": "[encoded data removed]",
      "text/plain": [
       "<Figure size 720x504 with 1 Axes>"
      ]
     },
     "metadata": {
      "needs_background": "light",
      "tags": []
     },
     "output_type": "display_data"
    }
   ],
   "source": [
    "# Check the history\n",
    "pd.DataFrame(history_2.history).plot(figsize=(10, 7), xlabel=\"epochs\")"
   ]
  },
  {
   "cell_type": "code",
   "execution_count": 35,
   "metadata": {
    "colab": {
     "base_uri": "https://localhost:8080/"
    },
    "id": "alkYIzPa0e0_",
    "outputId": "295a3643-e1ab-4eaf-8ee6-42927cb2e6af"
   },
   "outputs": [
    {
     "data": {
      "text/plain": [
       "array([[157,   0],\n",
       "       [  0, 111]])"
      ]
     },
     "execution_count": 35,
     "metadata": {
      "tags": []
     },
     "output_type": "execute_result"
    }
   ],
   "source": [
    "# Create a confusion matrix\n",
    "from sklearn.metrics import confusion_matrix\n",
    "\n",
    "# Make prediction\n",
    "y_preds = model_2.predict(X_test)\n",
    "\n",
    "# Create confusion matrix\n",
    "confusion_matrix(y_test, tf.round(y_preds))"
   ]
  },
  {
   "cell_type": "code",
   "execution_count": 36,
   "metadata": {
    "colab": {
     "base_uri": "https://localhost:8080/"
    },
    "id": "YxY15j711hf6",
    "outputId": "2d66f922-44fb-4992-e75b-01f9159e707a"
   },
   "outputs": [
    {
     "name": "stdout",
     "output_type": "stream",
     "text": [
      "              precision    recall  f1-score   support\n",
      "\n",
      "         0.0       1.00      1.00      1.00       157\n",
      "         1.0       1.00      1.00      1.00       111\n",
      "\n",
      "    accuracy                           1.00       268\n",
      "   macro avg       1.00      1.00      1.00       268\n",
      "weighted avg       1.00      1.00      1.00       268\n",
      "\n"
     ]
    }
   ],
   "source": [
    "# clssification report \n",
    "from sklearn.metrics import classification_report\n",
    "print(classification_report(y_test, tf.round(y_preds)))"
   ]
  },
  {
   "cell_type": "code",
   "execution_count": 37,
   "metadata": {
    "colab": {
     "base_uri": "https://localhost:8080/"
    },
    "id": "zUh2jGZr1v5H",
    "outputId": "53855488-8bfd-441a-d38a-bcb08b5d942b"
   },
   "outputs": [
    {
     "data": {
      "text/plain": [
       "1.0"
      ]
     },
     "execution_count": 37,
     "metadata": {
      "tags": []
     },
     "output_type": "execute_result"
    }
   ],
   "source": [
    "# F1 Score\n",
    "from sklearn.metrics import f1_score\n",
    "f1_score(y_test, tf.round(y_preds))"
   ]
  },
  {
   "cell_type": "code",
   "execution_count": null,
   "metadata": {
    "id": "SgWeHUDM1zFe"
   },
   "outputs": [],
   "source": [
    "# ploating model accuracy\n",
    "plt.plot(history_2.history['val_accuracy'])\n",
    "\n",
    "plt.title(\"model accuracy\")\n",
    "\n",
    "plt.ylabel('accuracy')\n",
    "plt.xlabel(\"epoch\")\n",
    "plt.legend(['train'], loc='upper left')\n",
    "\n",
    "plt.show()"
   ]
  },
  {
   "cell_type": "code",
   "execution_count": 39,
   "metadata": {
    "colab": {
     "base_uri": "https://localhost:8080/",
     "height": 295
    },
    "id": "DV7mXgUs1-U5",
    "outputId": "4de85ef6-039e-4c5e-f2d6-da4140236eb9"
   },
   "outputs": [
    {
     "data": {
      "image/png": "[encoded data removed]",
      "text/plain": [
       "<Figure size 432x288 with 1 Axes>"
      ]
     },
     "metadata": {
      "tags": []
     },
     "output_type": "display_data"
    }
   ],
   "source": [
    "# ploating model loss\n",
    "plt.plot(history_2.history['val_loss'])\n",
    "\n",
    "plt.title(\"model loss\")\n",
    "\n",
    "plt.ylabel('loss')\n",
    "plt.xlabel(\"epoch\")\n",
    "plt.legend(['train'],loc='upper left')\n",
    "\n",
    "plt.show()"
   ]
  },
  {
   "cell_type": "code",
   "execution_count": null,
   "metadata": {
    "id": "bfJKjVjQ2Au7"
   },
   "outputs": [],
   "source": []
  }
 ],
 "metadata": {
  "colab": {
   "collapsed_sections": [],
   "name": "Bank_Note_Authentication.ipynb",
   "provenance": []
  },
  "kernelspec": {
   "display_name": "Python 3",
   "language": "python",
   "name": "python3"
  },
  "language_info": {
   "codemirror_mode": {
    "name": "ipython",
    "version": 3
   },
   "file_extension": ".py",
   "mimetype": "text/x-python",
   "name": "python",
   "nbconvert_exporter": "python",
   "pygments_lexer": "ipython3",
   "version": "3.7.6"
  }
 },
 "nbformat": 4,
 "nbformat_minor": 1
}
